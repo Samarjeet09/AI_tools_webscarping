{
 "cells": [
  {
   "cell_type": "code",
   "execution_count": 1,
   "metadata": {},
   "outputs": [
    {
     "name": "stdout",
     "output_type": "stream",
     "text": [
      "hello\n"
     ]
    }
   ],
   "source": [
    "print('hello')"
   ]
  },
  {
   "cell_type": "markdown",
   "metadata": {},
   "source": [
    "- Tool Name\n",
    "- Tool URL\n",
    "- What is\n",
    "- Pricing\n",
    "- Tag\n",
    "- Tool possible use cases"
   ]
  },
  {
   "cell_type": "code",
   "execution_count": 56,
   "metadata": {},
   "outputs": [],
   "source": [
    "d ={'tool_name':[],'tool_url':[],'description':[],'pricing':[],'tag':[],'use_cases':[]}"
   ]
  },
  {
   "cell_type": "code",
   "execution_count": 203,
   "metadata": {},
   "outputs": [],
   "source": [
    "# import pandas as pd\n",
    "from selenium import webdriver\n",
    "from selenium.webdriver.common.by import By \n",
    "from selenium.webdriver import Keys\n",
    "import requests\n",
    "import time\n",
    "import os\n",
    "import bs4"
   ]
  },
  {
   "cell_type": "code",
   "execution_count": 204,
   "metadata": {},
   "outputs": [],
   "source": [
    "driver = webdriver.Chrome()\n",
    "driver.get('https://topai.tools/browse')"
   ]
  },
  {
   "cell_type": "code",
   "execution_count": 208,
   "metadata": {},
   "outputs": [],
   "source": [
    "html = driver.find_element(By.TAG_NAME, 'html')\n",
    "for i in range(500):\n",
    "    time.sleep(1)\n",
    "    html.send_keys(Keys.END)"
   ]
  },
  {
   "cell_type": "code",
   "execution_count": 209,
   "metadata": {},
   "outputs": [],
   "source": [
    "pageHtml = driver.page_source\n",
    "soup = bs4.BeautifulSoup(pageHtml, 'html.parser')"
   ]
  },
  {
   "cell_type": "code",
   "execution_count": 210,
   "metadata": {},
   "outputs": [
    {
     "name": "stdout",
     "output_type": "stream",
     "text": [
      "1440\n"
     ]
    }
   ],
   "source": [
    "block = soup.findAll('div', {'class':'tool-wrapper'} )\n",
    "print(len(block))"
   ]
  },
  {
   "cell_type": "code",
   "execution_count": 194,
   "metadata": {},
   "outputs": [
    {
     "name": "stdout",
     "output_type": "stream",
     "text": [
      "/t/myshell\n",
      "/t/mst-ai\n",
      "/t/zentask\n",
      "/t/copilot2trip-com\n",
      "/t/rizemail-app\n",
      "/t/proai-image-generator\n",
      "/t/genixgpt-travel-ai\n",
      "/t/everbility\n",
      "/t/textlayer\n",
      "/t/chat2csv\n",
      "/t/imagica\n",
      "/t/beforesunset-ai\n",
      "/t/fathom-lexicon\n",
      "/t/lightly\n",
      "/t/gptgo\n",
      "/t/memeswift\n",
      "/t/songr\n"
     ]
    }
   ],
   "source": [
    "baseLink = 'https://topai.tools'\n",
    "d ={'tool_name':[],'tool_url':[],'description':[],'pricing':[],'tag':[],'use_cases':[]}\n",
    "for item in block:\n",
    "    t = item.a['href']\n",
    "    if t == \"#\":\n",
    "        continue\n",
    "    print(t)\n",
    "    # make req for each page\n",
    "    try:\n",
    "        req = requests.get(baseLink + t)\n",
    "    except:\n",
    "        continue\n",
    "    else:\n",
    "        soup2 = bs4.BeautifulSoup(req.text, 'html.parser') \n",
    "        try:\n",
    "            name = soup2.find_all('h1')[0].text.strip()\n",
    "            tool_link = soup2.findAll('i',{'class':'bi bi-box-arrow-up-right mx-2'})[0].parent['href']\n",
    "        except:\n",
    "            continue\n",
    "        else:\n",
    "            try:   \n",
    "                what_is = soup2.findAll('p',{'class':'p-1 py-2 rounded'})[0].text.strip()\n",
    "            except:\n",
    "                what_is = ''\n",
    "            try:\n",
    "                pricingAndTagged = soup2.findAll('small',{'class':\"text-app\"})\n",
    "                pricing = pricingAndTagged[0].next.next.next.text.strip()\n",
    "                tagged = ''\n",
    "                for tags in pricingAndTagged[1].parent.findAll('span'):\n",
    "                    tagged+= tags.text.strip() + ','\n",
    "                tagged = tagged[:-1]\n",
    "            except:\n",
    "                pricing = ''\n",
    "                tagged=''\n",
    "            try:\n",
    "                useCases = soup2.findAll('ol')[0].text.strip()\n",
    "            except:\n",
    "                useCases=''\n",
    "            d['tool_name'].append(name)\n",
    "            d['tool_url'].append(tool_link)\n",
    "            d['description'].append(what_is)\n",
    "            d['pricing'].append(pricing)\n",
    "            d['tag'].append(tagged)\n",
    "            d['use_cases'].append(useCases)\n"
   ]
  },
  {
   "cell_type": "code",
   "execution_count": 196,
   "metadata": {},
   "outputs": [],
   "source": [
    "import pandas as pd"
   ]
  },
  {
   "cell_type": "code",
   "execution_count": 201,
   "metadata": {},
   "outputs": [],
   "source": [
    "df = pd.DataFrame(d)\n",
    "df.to_excel('test.xlsx')"
   ]
  },
  {
   "cell_type": "code",
   "execution_count": 171,
   "metadata": {},
   "outputs": [
    {
     "data": {
      "text/plain": [
       "{'tool_name': ['MyShell',\n",
       "  'mst.ai',\n",
       "  'Zentask',\n",
       "  'Copilot2trip.com',\n",
       "  'RizeMail',\n",
       "  'ProAI Image Generator',\n",
       "  'GenixGPT - Travel AI'],\n",
       " 'tool_url': ['https://myshell.ai/?via=topaitools',\n",
       "  'https://mst.ai/?via=topaitools',\n",
       "  'https://zentask.ai/?via=topaitools',\n",
       "  'https://copilot2trip.com/?via=topaitools',\n",
       "  'https://www.rizemail.app/?via=topaitools',\n",
       "  'https://thetubepro.com/proai-image-generator/?via=topaitools',\n",
       "  'https://www.genixgpt.com/?via=topaitools'],\n",
       " 'description': ['MyShell is an innovative chatbot platform that allows you to create personalized chatbots called Shell. With MyShell, you can create interactive and immersive chatbots by blending versatile components to construct useful and entertaining bots tailored to your needs. You can also share your chatbots with friends and the MyShell community. MyShell offers a wide range of features, including customizable knowledge integration, voice studio, infinite memory, internet and API integration, and multimodal integration. These features enable you to create chatbots that can interact intelligently with users, access information from external sources, and provide a seamless user experience.  MyShell provides the tools necessary to create chatbots that can handle complex dialogues and deliver accurate information in a conversational manner.',\n",
       "  'Ministerai is a free online AI art generator that allows you to unleash the power of your imagination and push beyond limits. With just one click, you can create awe-inspiring AI artworks instantly. Leveraging advanced AI technology, Ministerai creates stunningly realistic images of unmatched quality. Whether you are a skilled artist or a beginner, Ministerai empowers you to unleash your creativity without compromising on precision and quality. Welcome to the new era of digital art with Ministerai.Ministerai offers a large number of stable diffusion AI art models, both provided officially and shared by platform users, all available for free use and download. These models include various styles such as anime, fantasy, movie and photography, buildings and backgrounds, realistic vision, and more. You can also find distinctive styles like the Samdoesarts (Sam Yang) fashion style and the Blindbox Lora style. Built on a stable diffusion framework, Ministerai is an efficient, accurate, and unique AI drawing tool. It supports the use of multiple models, allowing you to present your artwork in various styles. You can also train personalized models and share excellent models with the community of users. Experience the endless possibilities of creating artwork with Ministerai.',\n",
       "  \"Zentask is an AI-powered solution that simplifies work and boosts productivity. It offers a range of features and solutions to help streamline workflows and save time and energy. With Zentask, you can create unique textual content and visuals with just one click, making it ideal for professionals in various fields. The platform also supports real-time context creation for articles and images, making it easy to generate engaging content for blogs, businesses, and marketing copies. Zentask is an all-in-one AI solution platform that enables you to develop unique content using diverse AI resources. Whether you need to compose, investigate, evaluate, or produce visuals, Zentask has got you covered. It allows you to write articles and marketing copies 10 times faster while ensuring they are SEO-friendly and plagiarism-free. With Zentask, you can also boost your site's success with SEO magic by refining keywords, generating meta tags, and crafting engaging articles. It supports various settings and customizable options, including language selection and voice tone, to help you achieve maximum online visibility. Additionally, Zentask offers the ability to create and organize prompt templates, simplifying your workload and streamlining your daily routine. It comes with a user-friendly interface and is suitable for both desktop and on-the-go browser support.\",\n",
       "  'Copilot2trip is an AI-powered personal travel assistant that helps you plan your trips with ease. With Copilot2trip, you can chat with the assistant to provide information about your intended destination, the length of your trip, and any additional preferences or circumstances. Whether you want to plan a 3-day itinerary in Dubai, create a list of the top attractions, find hidden gem tours and experiences, or simply navigate the city, Copilot2trip has got you covered.The intuitive interface allows you to easily interact with the assistant, map navigation and zooming options. Copilot2trip utilizes accurate map data from Google and INEGI to provide you with precise information about your desired location.',\n",
       "  \"Rizemail summarizes your emails without you having to leave your inbox. No installs. For free. You simply forward your unread newsletters or long emails to [email\\xa0protected] and you get a concise AI-generated summary back as a reply. Once your emails is processed we delete any trace of it to ensure your privacy. Rizemail is the tool for you if you want to spend less time wading through useless information and want to get to the core of your emails. Save your time, [email\\xa0protected] now.\\nThe best part? It's completely free! Currently, Rizemail allows you to summarize up to 100 mails per month per email account. Rest assured that your emails and data are secure with us, as we delete them immediately after summarization.While Rizemail serves modest ads at the bottom of the provided summaries to keep the service free, an ad-free premium service with extra features is coming soon. When you use Rizemail, your email is only used to summarize it, nothing else. Amazon Web Services (AWS) will receive your emails and trim the core body for our AI tool, OpenAI's GPT3.5 Turbo, to summarize. Once AWS returns the summary, it deletes all traces. Your email addresses are encrypted and stored as a hash, ensuring no one can see the content of your emails. The list of hashed emails is deleted every month.\",\n",
       "  'ProAI is an AI image and art generator, that can be used to generate free images, with different use cases, such as, digital art, social media content, advertising, photography, graphic design or print in demand.The generated images are free to use commercially.Users are also able to choose from different model styles, aspect ratios, up to 4 generated images at a time, and upscaling up to 2x or 3x times more, through paid monthly subscriptions.',\n",
       "  \"GenixGPT is an AI travel planner that helps you discover the best hidden gems and off-the-beaten-path destinations for your next trip. With AI-tailored recommendations, it provides unique and truly personalized vacation suggestions in minutes. Stop endlessly sifting through search results on Google, as GenixGPT expertly discovers spots that perfectly align with your personal taste.Whether you're looking for remote and rugged landscapes, stunning views, or untouched beauty, GenixGPT can help. It also uncovers hidden gems for you with the help of AI.GenixGPT is an AI companion for your vacation planning, making it easier to find the perfect destinations. Its personalized recommendations and ability to uncover hidden gems will help you create truly memorable trips.Discover the best places for your next adventure with GenixGPT, made with love for passionate travelers.\"],\n",
       " 'pricing': ['Usage based',\n",
       "  'Free',\n",
       "  'Freemium',\n",
       "  'Freemium',\n",
       "  'Free',\n",
       "  'Freemium',\n",
       "  'Free trial'],\n",
       " 'tag': ['Chatbots',\n",
       "  'Art Generation,Image Generation',\n",
       "  'Content Creation,Productivity',\n",
       "  'Travel,Life Assistant',\n",
       "  'Email,Productivity',\n",
       "  'Image Generation,Art Generation',\n",
       "  'Travel,Life Assistant'],\n",
       " 'use_cases': ['Creating personalized chatbots.\\nCreate AI characters to chat with on different topics.',\n",
       "  'Create stunning AI artworks instantly.\\nUnleash your creativity with precision and quality.\\nExplore various art styles and models.\\nTrain personalized AI art models.',\n",
       "  'Create unique textual content and visuals.\\nGenerate engaging content for blogs and marketing copies.\\nRefine keywords and generate meta tags for SEO.\\nCreate and organize prompt templates.',\n",
       "  'Plan itineraries easily and quickly.\\nFind attractions based on taste and preferences.\\nDiscover tours and experiences with the help of AI.',\n",
       "  'Quickly summarize emails.\\nManage long email threads and get the gist of it.\\nOrganize commercial communications.\\nSummarize newsletters to get the core message quickly.',\n",
       "  'Digital art creation for different projects without design skills.\\nSocial media content design generation from text prompts.\\nCreating advertising and marketing visuals easily.',\n",
       "  'Find personalized vacation suggestions with the help of AI.\\nDiscover personalized hidden gems for travel easily.\\nPlan memorable trips easily without the hustle of searching.\\nGet personalized and unique travel recommendations for your next trip.']}"
      ]
     },
     "execution_count": 171,
     "metadata": {},
     "output_type": "execute_result"
    }
   ],
   "source": [
    "d"
   ]
  },
  {
   "cell_type": "code",
   "execution_count": 180,
   "metadata": {},
   "outputs": [
    {
     "data": {
      "text/plain": [
       "'/t/coginiti-co'"
      ]
     },
     "execution_count": 180,
     "metadata": {},
     "output_type": "execute_result"
    }
   ],
   "source": [
    "t = block[7].findAll('a')[1]['href']\n",
    "t"
   ]
  },
  {
   "cell_type": "code",
   "execution_count": 181,
   "metadata": {},
   "outputs": [],
   "source": [
    "link = 'https://topai.tools'"
   ]
  },
  {
   "cell_type": "code",
   "execution_count": 182,
   "metadata": {},
   "outputs": [],
   "source": [
    "req = requests.get(link + t)\n",
    "soup2 = bs4.BeautifulSoup(req.text, 'html.parser')"
   ]
  },
  {
   "cell_type": "code",
   "execution_count": 183,
   "metadata": {},
   "outputs": [
    {
     "data": {
      "text/plain": [
       "'Coginiti'"
      ]
     },
     "execution_count": 183,
     "metadata": {},
     "output_type": "execute_result"
    }
   ],
   "source": [
    "name = soup2.find_all('h1')[0].text.strip()\n",
    "name"
   ]
  },
  {
   "cell_type": "code",
   "execution_count": 184,
   "metadata": {},
   "outputs": [
    {
     "data": {
      "text/plain": [
       "'#'"
      ]
     },
     "execution_count": 184,
     "metadata": {},
     "output_type": "execute_result"
    }
   ],
   "source": [
    "tool_link = soup2.findAll('i',{'class':'bi bi-box-arrow-up-right mx-2'})[0].parent['href']\n",
    "tool_link"
   ]
  },
  {
   "cell_type": "code",
   "execution_count": 185,
   "metadata": {},
   "outputs": [
    {
     "data": {
      "text/plain": [
       "\"Coginiti AI is an AI data analytics assistant that helps users produce consistent high-quality insights faster. Coginiti's AI assistant enables users to generate SQL using natural language prompts, optimize existing SQL queries, explain shared SQL in the integrated catalog, give detailed explanations and solutions to errors, and explain query execution plans for better optimization.\\nThe tool provides powerful query and analysis capabilities, allowing users to explore, manage, and analyze data in a collaborative data workspace. It also supports deep database and object store integration, providing easy access to data from various platforms such as Redshift, Microsoft, Snowflake, IBM, bigquery, Yellowbrick, and Databricks. Coginiti AI is focused on enabling collaborative intelligence, believing in the future of intelligence being collaborative. The tool is built with responsible AI principles and has established proud relationships with partners. Coginiti also provides resources such as white papers, webinars, case studies, and a blog for users to learn and stay updated with the latest news and perspectives.The AI advisor continually evolves based on every interaction, tailor-making recommendations and suggestions according to individual needs.Coginiti AI also focuses on enhancing query performance to decrease compute costs. Users can ask the AI advisor for assistance in leveraging indexes, optimizing joins, and reducing response times. This enhanced performance translates into faster insights, improved resource utilization, and lower compute costs.\""
      ]
     },
     "execution_count": 185,
     "metadata": {},
     "output_type": "execute_result"
    }
   ],
   "source": [
    "what_is = soup2.findAll('p',{'class':'p-1 py-2 rounded'})[0].text.strip()\n",
    "what_is"
   ]
  },
  {
   "cell_type": "code",
   "execution_count": 186,
   "metadata": {},
   "outputs": [],
   "source": [
    "pricingAndTagged = soup2.findAll('small',{'class':\"text-app\"})\n",
    "\n"
   ]
  },
  {
   "cell_type": "code",
   "execution_count": 187,
   "metadata": {},
   "outputs": [
    {
     "data": {
      "text/plain": [
       "'Free trial'"
      ]
     },
     "execution_count": 187,
     "metadata": {},
     "output_type": "execute_result"
    }
   ],
   "source": [
    "pricing = pricingAndTagged[0].next.next.next.text.strip()\n",
    "pricing"
   ]
  },
  {
   "cell_type": "code",
   "execution_count": 189,
   "metadata": {},
   "outputs": [
    {
     "data": {
      "text/plain": [
       "'Free trial'"
      ]
     },
     "execution_count": 189,
     "metadata": {},
     "output_type": "execute_result"
    }
   ],
   "source": [
    "tagged = ''\n",
    "for tags in pricingAndTagged[1].parent.findAll('span'):\n",
    "    tagged+= tags.text.strip() + ','\n",
    "tagged[:-1]\n"
   ]
  },
  {
   "cell_type": "code",
   "execution_count": 190,
   "metadata": {},
   "outputs": [],
   "source": [
    "useCases = soup2.findAll('ol')[0].text.strip()"
   ]
  },
  {
   "cell_type": "code",
   "execution_count": 202,
   "metadata": {},
   "outputs": [],
   "source": [
    "driver.quit()"
   ]
  },
  {
   "cell_type": "code",
   "execution_count": 213,
   "metadata": {},
   "outputs": [
    {
     "name": "stderr",
     "output_type": "stream",
     "text": [
      "  3%|▎         | 15/500 [00:16<08:42,  1.08s/it]\n"
     ]
    },
    {
     "ename": "KeyboardInterrupt",
     "evalue": "",
     "output_type": "error",
     "traceback": [
      "\u001b[1;31m---------------------------------------------------------------------------\u001b[0m",
      "\u001b[1;31mKeyboardInterrupt\u001b[0m                         Traceback (most recent call last)",
      "Cell \u001b[1;32mIn[213], line 4\u001b[0m\n\u001b[0;32m      1\u001b[0m \u001b[39mfrom\u001b[39;00m \u001b[39mtqdm\u001b[39;00m \u001b[39mimport\u001b[39;00m tqdm\n\u001b[0;32m      3\u001b[0m \u001b[39mfor\u001b[39;00m i \u001b[39min\u001b[39;00m tqdm(\u001b[39mrange\u001b[39m(\u001b[39m500\u001b[39m)):\n\u001b[1;32m----> 4\u001b[0m     time\u001b[39m.\u001b[39;49msleep(\u001b[39m1\u001b[39;49m)\n",
      "\u001b[1;31mKeyboardInterrupt\u001b[0m: "
     ]
    }
   ],
   "source": [
    "from tqdm import tqdm\n",
    "\n",
    "for i in tqdm(range(500)):\n",
    "    time.sleep(1)"
   ]
  }
 ],
 "metadata": {
  "kernelspec": {
   "display_name": "Selenium",
   "language": "python",
   "name": "python3"
  },
  "language_info": {
   "codemirror_mode": {
    "name": "ipython",
    "version": 3
   },
   "file_extension": ".py",
   "mimetype": "text/x-python",
   "name": "python",
   "nbconvert_exporter": "python",
   "pygments_lexer": "ipython3",
   "version": "3.10.11"
  },
  "orig_nbformat": 4
 },
 "nbformat": 4,
 "nbformat_minor": 2
}
